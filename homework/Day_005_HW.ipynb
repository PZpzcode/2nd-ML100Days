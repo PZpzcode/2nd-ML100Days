{
 "cells": [
  {
   "cell_type": "markdown",
   "metadata": {},
   "source": [
    "# [作業目標]\n",
    "- 對資料做更多處理 : 顯示特定欄位的統計值與直方圖"
   ]
  },
  {
   "cell_type": "markdown",
   "metadata": {},
   "source": [
    "# [作業重點]\n",
    "- 試著顯示特定欄位的基礎統計數值 (In[4], Out[4], Hint : describe())\n",
    "- 試著顯示特定欄位的直方圖 (In[5], Out[5], Hint : .hist())"
   ]
  },
  {
   "cell_type": "code",
   "execution_count": 1,
   "metadata": {},
   "outputs": [],
   "source": [
    "# Import 需要的套件\n",
    "import os\n",
    "import numpy as np\n",
    "import pandas as pd\n",
    "\n",
    "# 設定 data_path\n",
    "dir_data = './data/'"
   ]
  },
  {
   "cell_type": "code",
   "execution_count": 2,
   "metadata": {},
   "outputs": [],
   "source": [
    "f_app_train = os.path.join(dir_data, 'application_train.csv')\n",
    "app_train = pd.read_csv(f_app_train)"
   ]
  },
  {
   "cell_type": "code",
   "execution_count": 5,
   "metadata": {},
   "outputs": [],
   "source": [
    "import matplotlib.pyplot as plt\n",
    "%matplotlib inline"
   ]
  },
  {
   "cell_type": "markdown",
   "metadata": {},
   "source": [
    "## 練習時間"
   ]
  },
  {
   "cell_type": "markdown",
   "metadata": {},
   "source": [
    "觀察有興趣的欄位的資料分佈，並嘗試找出有趣的訊息\n",
    "#### Eg\n",
    "- 計算任意欄位的平均數及標準差\n",
    "- 畫出任意欄位的[直方圖](https://zh.wikipedia.org/zh-tw/%E7%9B%B4%E6%96%B9%E5%9B%BE)\n",
    "\n",
    "### Hints:\n",
    "- [Descriptive Statistics For pandas Dataframe](https://chrisalbon.com/python/data_wrangling/pandas_dataframe_descriptive_stats/)\n",
    "- [pandas 中的繪圖函數](https://amaozhao.gitbooks.io/pandas-notebook/content/pandas%E4%B8%AD%E7%9A%84%E7%BB%98%E5%9B%BE%E5%87%BD%E6%95%B0.html)\n"
   ]
  },
  {
   "cell_type": "code",
   "execution_count": 27,
   "metadata": {},
   "outputs": [
    {
     "data": {
      "text/plain": [
       "count    307511.000000\n",
       "mean          0.020868\n",
       "std           0.013831\n",
       "min           0.000290\n",
       "25%           0.010006\n",
       "50%           0.018850\n",
       "75%           0.028663\n",
       "max           0.072508\n",
       "Name: REGION_POPULATION_RELATIVE, dtype: float64"
      ]
     },
     "execution_count": 27,
     "metadata": {},
     "output_type": "execute_result"
    }
   ],
   "source": [
    "df=app_train\n",
    "df[\"REGION_POPULATION_RELATIVE\"].describe()\n"
   ]
  },
  {
   "cell_type": "code",
   "execution_count": 28,
   "metadata": {},
   "outputs": [
    {
     "name": "stdout",
     "output_type": "stream",
     "text": [
      "0         0.018801\n",
      "1         0.003541\n",
      "2         0.010032\n",
      "3         0.008019\n",
      "4         0.028663\n",
      "5         0.035792\n",
      "6         0.035792\n",
      "7         0.003122\n",
      "8         0.018634\n",
      "9         0.019689\n",
      "10        0.022800\n",
      "11        0.015221\n",
      "12        0.031329\n",
      "13        0.016612\n",
      "14        0.010006\n",
      "15        0.020713\n",
      "16        0.018634\n",
      "17        0.010966\n",
      "18        0.046220\n",
      "19        0.015221\n",
      "20        0.015221\n",
      "21        0.025164\n",
      "22        0.020713\n",
      "23        0.006296\n",
      "24        0.026392\n",
      "25        0.028663\n",
      "26        0.018029\n",
      "27        0.019101\n",
      "28        0.046220\n",
      "29        0.030755\n",
      "            ...   \n",
      "307481    0.008575\n",
      "307482    0.031329\n",
      "307483    0.007330\n",
      "307484    0.032561\n",
      "307485    0.003813\n",
      "307486    0.072508\n",
      "307487    0.010147\n",
      "307488    0.004960\n",
      "307489    0.014464\n",
      "307490    0.010147\n",
      "307491    0.019101\n",
      "307492    0.028663\n",
      "307493    0.019689\n",
      "307494    0.035792\n",
      "307495    0.025164\n",
      "307496    0.004960\n",
      "307497    0.007020\n",
      "307498    0.072508\n",
      "307499    0.007020\n",
      "307500    0.031329\n",
      "307501    0.009175\n",
      "307502    0.010966\n",
      "307503    0.022800\n",
      "307504    0.022625\n",
      "307505    0.022800\n",
      "307506    0.032561\n",
      "307507    0.025164\n",
      "307508    0.005002\n",
      "307509    0.005313\n",
      "307510    0.046220\n",
      "Name: REGION_POPULATION_RELATIVE, Length: 307511, dtype: float64\n"
     ]
    }
   ],
   "source": [
    "print(df[\"REGION_POPULATION_RELATIVE\"])"
   ]
  },
  {
   "cell_type": "code",
   "execution_count": 26,
   "metadata": {},
   "outputs": [
    {
     "data": {
      "image/png": "[encoded data removed]",
      "text/plain": [
       "<Figure size 432x288 with 1 Axes>"
      ]
     },
     "metadata": {
      "needs_background": "light"
     },
     "output_type": "display_data"
    }
   ],
   "source": [
    "plt.hist(x=df[\"REGION_POPULATION_RELATIVE\"],bins = 100)\n",
    "plt.show()"
   ]
  },
  {
   "cell_type": "code",
   "execution_count": null,
   "metadata": {},
   "outputs": [],
   "source": []
  }
 ],
 "metadata": {
  "kernelspec": {
   "display_name": "Python 3",
   "language": "python",
   "name": "python3"
  },
  "language_info": {
   "codemirror_mode": {
    "name": "ipython",
    "version": 3
   },
   "file_extension": ".py",
   "mimetype": "text/x-python",
   "name": "python",
   "nbconvert_exporter": "python",
   "pygments_lexer": "ipython3",
   "version": "3.7.1"
  }
 },
 "nbformat": 4,
 "nbformat_minor": 2
}
