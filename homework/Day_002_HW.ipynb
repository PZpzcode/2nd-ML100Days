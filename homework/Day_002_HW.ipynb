{
 "cells": [
  {
   "cell_type": "markdown",
   "metadata": {},
   "source": [
    "## 練習時間\n",
    "資料的操作有很多，接下來的馬拉松中我們會介紹常被使用到的操作，參加者不妨先自行想像一下，第一次看到資料，我們一般會想知道什麼訊息？\n",
    "\n",
    "#### Ex: 如何知道資料的 row 數以及 column 數、有什麼欄位、多少欄位、如何截取部分的資料等等\n",
    "\n",
    "有了對資料的好奇之後，我們又怎麼通過程式碼來達成我們的目的呢？\n",
    "\n",
    "#### 可參考該[基礎教材](https://bookdata.readthedocs.io/en/latest/base/01_pandas.html#DataFrame-%E5%85%A5%E9%97%A8)或自行 google"
   ]
  },
  {
   "cell_type": "code",
   "execution_count": 2,
   "metadata": {},
   "outputs": [],
   "source": [
    "import os\n",
    "import numpy as np\n",
    "import pandas as pd"
   ]
  },
  {
   "cell_type": "code",
   "execution_count": 3,
   "metadata": {},
   "outputs": [],
   "source": [
    "# 設定 data_path\n",
    "dir_data = './data/'"
   ]
  },
  {
   "cell_type": "code",
   "execution_count": 4,
   "metadata": {},
   "outputs": [
    {
     "name": "stdout",
     "output_type": "stream",
     "text": [
      "Path of read in data: ./data/application_train.csv\n"
     ]
    }
   ],
   "source": [
    "f_app = os.path.join(dir_data, 'application_train.csv')\n",
    "print('Path of read in data: %s' % (f_app))\n",
    "app_train = pd.read_csv(f_app)"
   ]
  },
  {
   "cell_type": "markdown",
   "metadata": {},
   "source": [
    "### 如果沒有想法，可以先嘗試找出剛剛例子中提到的問題的答案\n",
    "#### 資料的 row 數以及 column 數"
   ]
  },
  {
   "cell_type": "code",
   "execution_count": 5,
   "metadata": {},
   "outputs": [
    {
     "name": "stdout",
     "output_type": "stream",
     "text": [
      "(307511, 122)\n"
     ]
    }
   ],
   "source": [
    "df = app_train\n",
    "print(df.shape)"
   ]
  },
  {
   "cell_type": "markdown",
   "metadata": {},
   "source": [
    "#### 列出所有欄位"
   ]
  },
  {
   "cell_type": "code",
   "execution_count": 8,
   "metadata": {},
   "outputs": [
    {
     "name": "stdout",
     "output_type": "stream",
     "text": [
      "Index(['SK_ID_CURR', 'TARGET', 'NAME_CONTRACT_TYPE', 'CODE_GENDER',\n",
      "       'FLAG_OWN_CAR', 'FLAG_OWN_REALTY', 'CNT_CHILDREN', 'AMT_INCOME_TOTAL',\n",
      "       'AMT_CREDIT', 'AMT_ANNUITY',\n",
      "       ...\n",
      "       'FLAG_DOCUMENT_18', 'FLAG_DOCUMENT_19', 'FLAG_DOCUMENT_20',\n",
      "       'FLAG_DOCUMENT_21', 'AMT_REQ_CREDIT_BUREAU_HOUR',\n",
      "       'AMT_REQ_CREDIT_BUREAU_DAY', 'AMT_REQ_CREDIT_BUREAU_WEEK',\n",
      "       'AMT_REQ_CREDIT_BUREAU_MON', 'AMT_REQ_CREDIT_BUREAU_QRT',\n",
      "       'AMT_REQ_CREDIT_BUREAU_YEAR'],\n",
      "      dtype='object', length=122)\n"
     ]
    }
   ],
   "source": [
    "print(df.columns)"
   ]
  },
  {
   "cell_type": "markdown",
   "metadata": {},
   "source": [
    "列出行"
   ]
  },
  {
   "cell_type": "code",
   "execution_count": 7,
   "metadata": {},
   "outputs": [
    {
     "name": "stdout",
     "output_type": "stream",
     "text": [
      "RangeIndex(start=0, stop=307511, step=1)\n"
     ]
    }
   ],
   "source": [
    "print(df.index)"
   ]
  },
  {
   "cell_type": "markdown",
   "metadata": {},
   "source": [
    "#### 截取部分資料"
   ]
  },
  {
   "cell_type": "markdown",
   "metadata": {},
   "source": [
    "序列iloc，可以用位置進行選擇要的資料"
   ]
  },
  {
   "cell_type": "code",
   "execution_count": 12,
   "metadata": {},
   "outputs": [
    {
     "name": "stdout",
     "output_type": "stream",
     "text": [
      "  NAME_CONTRACT_TYPE CODE_GENDER FLAG_OWN_CAR\n",
      "0         Cash loans           M            N\n",
      "1         Cash loans           F            N\n",
      "2    Revolving loans           M            Y\n",
      "3         Cash loans           F            N\n"
     ]
    }
   ],
   "source": [
    "print(df.iloc[0:4,2:5]) #逗點前數字表示哪幾行(index)值，後面是哪幾列(columns)值)"
   ]
  },
  {
   "cell_type": "markdown",
   "metadata": {},
   "source": [
    "序列loc，用標籤進行選擇所要的資料"
   ]
  },
  {
   "cell_type": "code",
   "execution_count": 13,
   "metadata": {},
   "outputs": [
    {
     "name": "stdout",
     "output_type": "stream",
     "text": [
      "   SK_ID_CURR  TARGET NAME_CONTRACT_TYPE CODE_GENDER FLAG_OWN_CAR  \\\n",
      "0      100002       1         Cash loans           M            N   \n",
      "1      100003       0         Cash loans           F            N   \n",
      "2      100004       0    Revolving loans           M            Y   \n",
      "\n",
      "  FLAG_OWN_REALTY  CNT_CHILDREN  AMT_INCOME_TOTAL  AMT_CREDIT  AMT_ANNUITY  \\\n",
      "0               Y             0          202500.0    406597.5      24700.5   \n",
      "1               N             0          270000.0   1293502.5      35698.5   \n",
      "2               Y             0           67500.0    135000.0       6750.0   \n",
      "\n",
      "              ...              FLAG_DOCUMENT_18 FLAG_DOCUMENT_19  \\\n",
      "0             ...                             0                0   \n",
      "1             ...                             0                0   \n",
      "2             ...                             0                0   \n",
      "\n",
      "  FLAG_DOCUMENT_20 FLAG_DOCUMENT_21 AMT_REQ_CREDIT_BUREAU_HOUR  \\\n",
      "0                0                0                        0.0   \n",
      "1                0                0                        0.0   \n",
      "2                0                0                        0.0   \n",
      "\n",
      "  AMT_REQ_CREDIT_BUREAU_DAY  AMT_REQ_CREDIT_BUREAU_WEEK  \\\n",
      "0                       0.0                         0.0   \n",
      "1                       0.0                         0.0   \n",
      "2                       0.0                         0.0   \n",
      "\n",
      "   AMT_REQ_CREDIT_BUREAU_MON  AMT_REQ_CREDIT_BUREAU_QRT  \\\n",
      "0                        0.0                        0.0   \n",
      "1                        0.0                        0.0   \n",
      "2                        0.0                        0.0   \n",
      "\n",
      "   AMT_REQ_CREDIT_BUREAU_YEAR  \n",
      "0                         1.0  \n",
      "1                         0.0  \n",
      "2                         0.0  \n",
      "\n",
      "[3 rows x 122 columns]\n"
     ]
    }
   ],
   "source": [
    "print(df.loc[0:2])"
   ]
  },
  {
   "cell_type": "markdown",
   "metadata": {},
   "source": [
    "ㄌ"
   ]
  },
  {
   "cell_type": "markdown",
   "metadata": {},
   "source": [
    "#### 還有各種數之不盡的資料操作，重點還是取決於實務中遇到的狀況和你想問的問題，在馬拉松中我們也會陸續提到更多例子"
   ]
  },
  {
   "cell_type": "markdown",
   "metadata": {
    "collapsed": true
   },
   "source": [
    "混和篩選ix，可以同時做位置與標籤的選擇"
   ]
  },
  {
   "cell_type": "code",
   "execution_count": 19,
   "metadata": {},
   "outputs": [
    {
     "name": "stdout",
     "output_type": "stream",
     "text": [
      "   TARGET NAME_CONTRACT_TYPE\n",
      "0       1         Cash loans\n",
      "1       0         Cash loans\n",
      "2       0    Revolving loans\n",
      "3       0         Cash loans\n",
      "4       0         Cash loans\n",
      "5       0         Cash loans\n",
      "6       0         Cash loans\n",
      "7       0         Cash loans\n",
      "8       0         Cash loans\n"
     ]
    },
    {
     "name": "stderr",
     "output_type": "stream",
     "text": [
      "D:\\Anaconda\\lib\\site-packages\\ipykernel_launcher.py:1: DeprecationWarning: \n",
      ".ix is deprecated. Please use\n",
      ".loc for label based indexing or\n",
      ".iloc for positional indexing\n",
      "\n",
      "See the documentation here:\n",
      "http://pandas.pydata.org/pandas-docs/stable/indexing.html#ix-indexer-is-deprecated\n",
      "  \"\"\"Entry point for launching an IPython kernel.\n"
     ]
    }
   ],
   "source": [
    "print(df.ix[:8,[\"TARGET\",\"NAME_CONTRACT_TYPE\"]])"
   ]
  },
  {
   "cell_type": "markdown",
   "metadata": {},
   "source": [
    "通過判斷篩選"
   ]
  },
  {
   "cell_type": "code",
   "execution_count": 41,
   "metadata": {},
   "outputs": [
    {
     "name": "stdout",
     "output_type": "stream",
     "text": [
      "    SK_ID_CURR  TARGET NAME_CONTRACT_TYPE CODE_GENDER FLAG_OWN_CAR  \\\n",
      "0       100002       1         Cash loans           M            N   \n",
      "1       100003       0         Cash loans           F            N   \n",
      "2       100004       0    Revolving loans           M            Y   \n",
      "3       100006       0         Cash loans           F            N   \n",
      "4       100007       0         Cash loans           M            N   \n",
      "5       100008       0         Cash loans           M            N   \n",
      "6       100009       0         Cash loans           F            Y   \n",
      "7       100010       0         Cash loans           M            Y   \n",
      "8       100011       0         Cash loans           F            N   \n",
      "9       100012       0    Revolving loans           M            N   \n",
      "10      100014       0         Cash loans           F            N   \n",
      "11      100015       0         Cash loans           F            N   \n",
      "12      100016       0         Cash loans           F            N   \n",
      "13      100017       0         Cash loans           M            Y   \n",
      "14      100018       0         Cash loans           F            N   \n",
      "15      100019       0         Cash loans           M            Y   \n",
      "16      100020       0         Cash loans           M            N   \n",
      "17      100021       0    Revolving loans           F            N   \n",
      "18      100022       0    Revolving loans           F            N   \n",
      "19      100023       0         Cash loans           F            N   \n",
      "20      100024       0    Revolving loans           M            Y   \n",
      "\n",
      "   FLAG_OWN_REALTY  CNT_CHILDREN  AMT_INCOME_TOTAL  AMT_CREDIT  AMT_ANNUITY  \\\n",
      "0                Y             0        202500.000    406597.5      24700.5   \n",
      "1                N             0        270000.000   1293502.5      35698.5   \n",
      "2                Y             0         67500.000    135000.0       6750.0   \n",
      "3                Y             0        135000.000    312682.5      29686.5   \n",
      "4                Y             0        121500.000    513000.0      21865.5   \n",
      "5                Y             0         99000.000    490495.5      27517.5   \n",
      "6                Y             1        171000.000   1560726.0      41301.0   \n",
      "7                Y             0        360000.000   1530000.0      42075.0   \n",
      "8                Y             0        112500.000   1019610.0      33826.5   \n",
      "9                Y             0        135000.000    405000.0      20250.0   \n",
      "10               Y             1        112500.000    652500.0      21177.0   \n",
      "11               Y             0         38419.155    148365.0      10678.5   \n",
      "12               Y             0         67500.000     80865.0       5881.5   \n",
      "13               N             1        225000.000    918468.0      28966.5   \n",
      "14               Y             0        189000.000    773680.5      32778.0   \n",
      "15               Y             0        157500.000    299772.0      20160.0   \n",
      "16               N             0        108000.000    509602.5      26149.5   \n",
      "17               Y             1         81000.000    270000.0      13500.0   \n",
      "18               Y             0        112500.000    157500.0       7875.0   \n",
      "19               Y             1         90000.000    544491.0      17563.5   \n",
      "20               Y             0        135000.000    427500.0      21375.0   \n",
      "\n",
      "               ...              FLAG_DOCUMENT_18 FLAG_DOCUMENT_19  \\\n",
      "0              ...                             0                0   \n",
      "1              ...                             0                0   \n",
      "2              ...                             0                0   \n",
      "3              ...                             0                0   \n",
      "4              ...                             0                0   \n",
      "5              ...                             0                0   \n",
      "6              ...                             0                0   \n",
      "7              ...                             0                0   \n",
      "8              ...                             0                0   \n",
      "9              ...                             0                0   \n",
      "10             ...                             0                0   \n",
      "11             ...                             0                0   \n",
      "12             ...                             0                0   \n",
      "13             ...                             0                0   \n",
      "14             ...                             0                0   \n",
      "15             ...                             0                0   \n",
      "16             ...                             0                0   \n",
      "17             ...                             0                0   \n",
      "18             ...                             0                0   \n",
      "19             ...                             0                0   \n",
      "20             ...                             0                0   \n",
      "\n",
      "   FLAG_DOCUMENT_20 FLAG_DOCUMENT_21 AMT_REQ_CREDIT_BUREAU_HOUR  \\\n",
      "0                 0                0                        0.0   \n",
      "1                 0                0                        0.0   \n",
      "2                 0                0                        0.0   \n",
      "3                 0                0                        NaN   \n",
      "4                 0                0                        0.0   \n",
      "5                 0                0                        0.0   \n",
      "6                 0                0                        0.0   \n",
      "7                 0                0                        0.0   \n",
      "8                 0                0                        0.0   \n",
      "9                 0                0                        NaN   \n",
      "10                0                0                        0.0   \n",
      "11                0                0                        0.0   \n",
      "12                0                0                        0.0   \n",
      "13                0                0                        0.0   \n",
      "14                0                0                        NaN   \n",
      "15                0                0                        0.0   \n",
      "16                0                0                        0.0   \n",
      "17                0                0                        NaN   \n",
      "18                0                0                        0.0   \n",
      "19                0                0                        0.0   \n",
      "20                0                0                        NaN   \n",
      "\n",
      "   AMT_REQ_CREDIT_BUREAU_DAY  AMT_REQ_CREDIT_BUREAU_WEEK  \\\n",
      "0                        0.0                         0.0   \n",
      "1                        0.0                         0.0   \n",
      "2                        0.0                         0.0   \n",
      "3                        NaN                         NaN   \n",
      "4                        0.0                         0.0   \n",
      "5                        0.0                         0.0   \n",
      "6                        0.0                         0.0   \n",
      "7                        0.0                         0.0   \n",
      "8                        0.0                         0.0   \n",
      "9                        NaN                         NaN   \n",
      "10                       0.0                         0.0   \n",
      "11                       0.0                         0.0   \n",
      "12                       0.0                         0.0   \n",
      "13                       0.0                         0.0   \n",
      "14                       NaN                         NaN   \n",
      "15                       0.0                         0.0   \n",
      "16                       0.0                         0.0   \n",
      "17                       NaN                         NaN   \n",
      "18                       0.0                         0.0   \n",
      "19                       0.0                         0.0   \n",
      "20                       NaN                         NaN   \n",
      "\n",
      "    AMT_REQ_CREDIT_BUREAU_MON  AMT_REQ_CREDIT_BUREAU_QRT  \\\n",
      "0                         0.0                        0.0   \n",
      "1                         0.0                        0.0   \n",
      "2                         0.0                        0.0   \n",
      "3                         NaN                        NaN   \n",
      "4                         0.0                        0.0   \n",
      "5                         0.0                        1.0   \n",
      "6                         1.0                        1.0   \n",
      "7                         0.0                        0.0   \n",
      "8                         0.0                        0.0   \n",
      "9                         NaN                        NaN   \n",
      "10                        1.0                        0.0   \n",
      "11                        0.0                        0.0   \n",
      "12                        1.0                        0.0   \n",
      "13                        0.0                        0.0   \n",
      "14                        NaN                        NaN   \n",
      "15                        0.0                        0.0   \n",
      "16                        0.0                        1.0   \n",
      "17                        NaN                        NaN   \n",
      "18                        0.0                        0.0   \n",
      "19                        0.0                        0.0   \n",
      "20                        NaN                        NaN   \n",
      "\n",
      "    AMT_REQ_CREDIT_BUREAU_YEAR  \n",
      "0                          1.0  \n",
      "1                          0.0  \n",
      "2                          0.0  \n",
      "3                          NaN  \n",
      "4                          0.0  \n",
      "5                          1.0  \n",
      "6                          2.0  \n",
      "7                          0.0  \n",
      "8                          1.0  \n",
      "9                          NaN  \n",
      "10                         0.0  \n",
      "11                         2.0  \n",
      "12                         0.0  \n",
      "13                         1.0  \n",
      "14                         NaN  \n",
      "15                         1.0  \n",
      "16                         0.0  \n",
      "17                         NaN  \n",
      "18                         0.0  \n",
      "19                         2.0  \n",
      "20                         NaN  \n",
      "\n",
      "[21 rows x 122 columns]\n"
     ]
    }
   ],
   "source": [
    "print(df[df.SK_ID_CURR<100025\n",
    "])"
   ]
  }
 ],
 "metadata": {
  "kernelspec": {
   "display_name": "Python 3",
   "language": "python",
   "name": "python3"
  },
  "language_info": {
   "codemirror_mode": {
    "name": "ipython",
    "version": 3
   },
   "file_extension": ".py",
   "mimetype": "text/x-python",
   "name": "python",
   "nbconvert_exporter": "python",
   "pygments_lexer": "ipython3",
   "version": "3.7.0"
  }
 },
 "nbformat": 4,
 "nbformat_minor": 2
}
